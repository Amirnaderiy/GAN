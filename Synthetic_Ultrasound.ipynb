{
  "nbformat": 4,
  "nbformat_minor": 0,
  "metadata": {
    "colab": {
      "provenance": [],
      "authorship_tag": "ABX9TyM91wvr70RVmBNnPlXdb0Xc",
      "include_colab_link": true
    },
    "kernelspec": {
      "name": "python3",
      "display_name": "Python 3"
    },
    "language_info": {
      "name": "python"
    }
  },
  "cells": [
    {
      "cell_type": "markdown",
      "metadata": {
        "id": "view-in-github",
        "colab_type": "text"
      },
      "source": [
        "<a href=\"https://colab.research.google.com/github/Amirnaderiy/GAN/blob/main/Synthetic_Ultrasound.ipynb\" target=\"_parent\"><img src=\"https://colab.research.google.com/assets/colab-badge.svg\" alt=\"Open In Colab\"/></a>"
      ]
    },
    {
      "cell_type": "code",
      "source": [
        "import tensorflow as tf\n",
        "from google.colab import drive\n",
        "import numpy as np\n",
        "import cv2\n",
        "import os\n"
      ],
      "metadata": {
        "id": "lGq6x6nfqABZ"
      },
      "execution_count": 5,
      "outputs": []
    },
    {
      "cell_type": "code",
      "execution_count": 2,
      "metadata": {
        "colab": {
          "base_uri": "https://localhost:8080/"
        },
        "id": "9dWN8wVKpgO2",
        "outputId": "9691c175-6ed5-48f9-9cca-5349ba7e5d03"
      },
      "outputs": [
        {
          "output_type": "stream",
          "name": "stdout",
          "text": [
            "Cloning into 'stylegan2'...\n",
            "remote: Enumerating objects: 138, done.\u001b[K\n",
            "remote: Total 138 (delta 0), reused 0 (delta 0), pack-reused 138\u001b[K\n",
            "Receiving objects: 100% (138/138), 594.91 KiB | 10.62 MiB/s, done.\n",
            "Resolving deltas: 100% (64/64), done.\n",
            "python3: can't open file '/content/stylegan2/download_weights.py': [Errno 2] No such file or directory\n"
          ]
        }
      ],
      "source": [
        "!git clone https://github.com/NVlabs/stylegan2.git\n",
        "!python stylegan2/download_weights.py\n"
      ]
    },
    {
      "cell_type": "code",
      "source": [
        "np.random.seed(42)\n",
        "tf.random.set_seed(42)\n",
        "\n",
        "\n",
        "# Load your own image\n",
        "\n",
        "drive.mount('/content/drive')\n",
        "image_folder = '/content/drive/MyDrive/B-Mode Ultrasound/'\n",
        "image_files = os.listdir(image_folder)\n",
        "\n",
        "for image_file in image_files:\n",
        "    # Construct the full path to the image\n",
        "    image_path = os.path.join(image_folder, image_file)\n",
        "\n",
        "    # Load the image\n",
        "    original_image = cv2.imread(image_path)\n",
        "\n",
        "\n",
        "# Preprocess the image\n",
        "preprocessed_image = cv2.cvtColor(original_image, cv2.COLOR_BGR2RGB)\n",
        "preprocessed_image = cv2.resize(preprocessed_image, (512, 512))  # Resize to match StyleGAN2 input size\n",
        "preprocessed_image = (preprocessed_image / 255.0) * 2 - 1  # Normalize pixel values to [-1, 1]\n",
        "\n",
        "# Reshape the image for StyleGAN2 input\n",
        "image_batch = np.expand_dims(preprocessed_image, axis=0)\n",
        "\n",
        "# Load StyleGAN2 model\n",
        "saver = tf.compat.v1.train.import_meta_graph('stylegan2/models/ffhq.pkl.meta')\n",
        "sess = tf.compat.v1.InteractiveSession()\n",
        "saver.restore(sess, 'stylegan2/models/ffhq.pkl')\n",
        "\n",
        "# Access the generator's input and output tensors\n",
        "latent_vector = sess.graph.get_tensor_by_name('G_mapping_1/_Run/G_mapping/dlatents_out:0')\n",
        "generated_image = sess.graph.get_tensor_by_name('G_synthesis_1/_Run/concat/concat:0')\n",
        "\n",
        "# Generate an image from the original image\n",
        "image = sess.run(generated_image, feed_dict={latent_vector: image_batch})\n",
        "\n",
        "# Rescale the pixel values from [-1, 1] to [0, 255]\n",
        "image = ((image + 1) * 127.5).astype(np.uint8)\n",
        "\n",
        "# Save the generated image\n",
        "output_dir = 'path/to/output/directory'\n",
        "os.makedirs(output_dir, exist_ok=True)\n",
        "output_image_path = os.path.join(output_dir, 'generated_image.png')\n",
        "cv2.imwrite(output_image_path, image[0])\n",
        "\n",
        "print('Image generation complete!')"
      ],
      "metadata": {
        "colab": {
          "base_uri": "https://localhost:8080/",
          "height": 235
        },
        "id": "dXOvcrX2p-MU",
        "outputId": "7f80c22a-11f8-4826-a930-0a0e2442f411"
      },
      "execution_count": 4,
      "outputs": [
        {
          "output_type": "error",
          "ename": "NameError",
          "evalue": "ignored",
          "traceback": [
            "\u001b[0;31m---------------------------------------------------------------------------\u001b[0m",
            "\u001b[0;31mNameError\u001b[0m                                 Traceback (most recent call last)",
            "\u001b[0;32m<ipython-input-4-9eb66a5b55d7>\u001b[0m in \u001b[0;36m<cell line: 7>\u001b[0;34m()\u001b[0m\n\u001b[1;32m      5\u001b[0m \u001b[0;31m# Load your own image\u001b[0m\u001b[0;34m\u001b[0m\u001b[0;34m\u001b[0m\u001b[0m\n\u001b[1;32m      6\u001b[0m \u001b[0;34m\u001b[0m\u001b[0m\n\u001b[0;32m----> 7\u001b[0;31m \u001b[0mdrive\u001b[0m\u001b[0;34m.\u001b[0m\u001b[0mmount\u001b[0m\u001b[0;34m(\u001b[0m\u001b[0;34m'/content/drive'\u001b[0m\u001b[0;34m)\u001b[0m\u001b[0;34m\u001b[0m\u001b[0;34m\u001b[0m\u001b[0m\n\u001b[0m\u001b[1;32m      8\u001b[0m \u001b[0mimage_folder\u001b[0m \u001b[0;34m=\u001b[0m \u001b[0;34m'/content/drive/MyDrive/B-Mode Ultrasound/'\u001b[0m\u001b[0;34m\u001b[0m\u001b[0;34m\u001b[0m\u001b[0m\n\u001b[1;32m      9\u001b[0m \u001b[0mimage_files\u001b[0m \u001b[0;34m=\u001b[0m \u001b[0mos\u001b[0m\u001b[0;34m.\u001b[0m\u001b[0mlistdir\u001b[0m\u001b[0;34m(\u001b[0m\u001b[0mimage_folder\u001b[0m\u001b[0;34m)\u001b[0m\u001b[0;34m\u001b[0m\u001b[0;34m\u001b[0m\u001b[0m\n",
            "\u001b[0;31mNameError\u001b[0m: name 'drive' is not defined"
          ]
        }
      ]
    },
    {
      "cell_type": "code",
      "source": [],
      "metadata": {
        "id": "3wRW16WusE5T"
      },
      "execution_count": null,
      "outputs": []
    }
  ]
}