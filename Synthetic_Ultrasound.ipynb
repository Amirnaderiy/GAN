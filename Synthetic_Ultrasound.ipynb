{
  "nbformat": 4,
  "nbformat_minor": 0,
  "metadata": {
    "colab": {
      "provenance": [],
      "authorship_tag": "ABX9TyMWHjb4pjb92iVa9pz6sj+E",
      "include_colab_link": true
    },
    "kernelspec": {
      "name": "python3",
      "display_name": "Python 3"
    },
    "language_info": {
      "name": "python"
    }
  },
  "cells": [
    {
      "cell_type": "markdown",
      "metadata": {
        "id": "view-in-github",
        "colab_type": "text"
      },
      "source": [
        "<a href=\"https://colab.research.google.com/github/Amirnaderiy/GAN/blob/main/Synthetic_Ultrasound.ipynb\" target=\"_parent\"><img src=\"https://colab.research.google.com/assets/colab-badge.svg\" alt=\"Open In Colab\"/></a>"
      ]
    },
    {
      "cell_type": "code",
      "source": [
        "import os\n",
        "import requests\n",
        "from google.colab import drive\n",
        "\n",
        "# Mount your Google Drive\n",
        "drive.mount('/content/drive')\n",
        "\n",
        "# Set the path to the models directory on your Google Drive\n",
        "models_dir = '/content/drive/MyDrive/stylegan2/models'\n",
        "\n",
        "# Create the models directory if it doesn't exist\n",
        "os.makedirs(models_dir, exist_ok=True)\n",
        "\n",
        "# Set the URL for the pre-trained weights\n",
        "url = 'https://nvlabs-fi-cdn.nvidia.com/stylegan2/networks/stylegan2-ffhq-config-f.pkl'\n",
        "\n",
        "# Download the pre-trained weights\n",
        "response = requests.get(url)\n",
        "with open(os.path.join(models_dir, 'ffhq.pkl'), 'wb') as f:\n",
        "    f.write(response.content)\n",
        "\n",
        "print('Download complete!')"
      ],
      "metadata": {
        "id": "I0PU-YxYRAYR",
        "outputId": "df1e5291-1f9d-4c5e-d488-4b7672e0e326",
        "colab": {
          "base_uri": "https://localhost:8080/"
        }
      },
      "execution_count": 17,
      "outputs": [
        {
          "output_type": "stream",
          "name": "stdout",
          "text": [
            "Drive already mounted at /content/drive; to attempt to forcibly remount, call drive.mount(\"/content/drive\", force_remount=True).\n",
            "Download complete!\n"
          ]
        }
      ]
    },
    {
      "cell_type": "code",
      "source": [
        "import tensorflow as tf\n",
        "from google.colab import drive\n",
        "import numpy as np\n",
        "import cv2\n",
        "import os\n",
        "from tensorflow.python.framework.ops import disable_eager_execution\n",
        "\n",
        "# Disable eager execution\n",
        "disable_eager_execution()\n"
      ],
      "metadata": {
        "id": "lGq6x6nfqABZ"
      },
      "execution_count": 9,
      "outputs": []
    },
    {
      "cell_type": "code",
      "execution_count": 15,
      "metadata": {
        "colab": {
          "base_uri": "https://localhost:8080/"
        },
        "id": "9dWN8wVKpgO2",
        "outputId": "143b2082-7a78-4d85-f9cb-05660d741912"
      },
      "outputs": [
        {
          "output_type": "stream",
          "name": "stdout",
          "text": [
            "Cloning into 'stylegan2'...\n",
            "remote: Enumerating objects: 138, done.\u001b[K\n",
            "Receiving objects:   0% (1/138)\rReceiving objects:   1% (2/138)\rReceiving objects:   2% (3/138)\rReceiving objects:   3% (5/138)\rReceiving objects:   4% (6/138)\rReceiving objects:   5% (7/138)\rReceiving objects:   6% (9/138)\rReceiving objects:   7% (10/138)\rReceiving objects:   8% (12/138)\rReceiving objects:   9% (13/138)\rReceiving objects:  10% (14/138)\rReceiving objects:  11% (16/138)\rReceiving objects:  12% (17/138)\rReceiving objects:  13% (18/138)\rReceiving objects:  14% (20/138)\rReceiving objects:  15% (21/138)\rReceiving objects:  16% (23/138)\rReceiving objects:  17% (24/138)\rReceiving objects:  18% (25/138)\rReceiving objects:  19% (27/138)\rReceiving objects:  20% (28/138)\rReceiving objects:  21% (29/138)\rReceiving objects:  22% (31/138)\rReceiving objects:  23% (32/138)\rReceiving objects:  24% (34/138)\rReceiving objects:  25% (35/138)\rReceiving objects:  26% (36/138)\rReceiving objects:  27% (38/138)\rReceiving objects:  28% (39/138)\rReceiving objects:  29% (41/138)\rReceiving objects:  30% (42/138)\rReceiving objects:  31% (43/138)\rReceiving objects:  32% (45/138)\rReceiving objects:  33% (46/138)\rReceiving objects:  34% (47/138)\rReceiving objects:  35% (49/138)\rReceiving objects:  36% (50/138)\rReceiving objects:  37% (52/138)\rReceiving objects:  38% (53/138)\rReceiving objects:  39% (54/138)\rReceiving objects:  40% (56/138)\rReceiving objects:  41% (57/138)\rReceiving objects:  42% (58/138)\rremote: Total 138 (delta 0), reused 0 (delta 0), pack-reused 138\u001b[K\n",
            "Receiving objects:  43% (60/138)\rReceiving objects:  44% (61/138)\rReceiving objects:  45% (63/138)\rReceiving objects:  46% (64/138)\rReceiving objects:  47% (65/138)\rReceiving objects:  48% (67/138)\rReceiving objects:  49% (68/138)\rReceiving objects:  50% (69/138)\rReceiving objects:  51% (71/138)\rReceiving objects:  52% (72/138)\rReceiving objects:  53% (74/138)\rReceiving objects:  54% (75/138)\rReceiving objects:  55% (76/138)\rReceiving objects:  56% (78/138)\rReceiving objects:  57% (79/138)\rReceiving objects:  58% (81/138)\rReceiving objects:  59% (82/138)\rReceiving objects:  60% (83/138)\rReceiving objects:  61% (85/138)\rReceiving objects:  62% (86/138)\rReceiving objects:  63% (87/138)\rReceiving objects:  64% (89/138)\rReceiving objects:  65% (90/138)\rReceiving objects:  66% (92/138)\rReceiving objects:  67% (93/138)\rReceiving objects:  68% (94/138)\rReceiving objects:  69% (96/138)\rReceiving objects:  70% (97/138)\rReceiving objects:  71% (98/138)\rReceiving objects:  72% (100/138)\rReceiving objects:  73% (101/138)\rReceiving objects:  74% (103/138)\rReceiving objects:  75% (104/138)\rReceiving objects:  76% (105/138)\rReceiving objects:  77% (107/138)\rReceiving objects:  78% (108/138)\rReceiving objects:  79% (110/138)\rReceiving objects:  80% (111/138)\rReceiving objects:  81% (112/138)\rReceiving objects:  82% (114/138)\rReceiving objects:  83% (115/138)\rReceiving objects:  84% (116/138)\rReceiving objects:  85% (118/138)\rReceiving objects:  86% (119/138)\rReceiving objects:  87% (121/138)\rReceiving objects:  88% (122/138)\rReceiving objects:  89% (123/138)\rReceiving objects:  90% (125/138)\rReceiving objects:  91% (126/138)\rReceiving objects:  92% (127/138)\rReceiving objects:  93% (129/138)\rReceiving objects:  94% (130/138)\rReceiving objects:  95% (132/138)\rReceiving objects:  96% (133/138)\rReceiving objects:  97% (134/138)\rReceiving objects:  98% (136/138)\rReceiving objects:  99% (137/138)\rReceiving objects: 100% (138/138)\rReceiving objects: 100% (138/138), 594.91 KiB | 8.75 MiB/s, done.\n",
            "Resolving deltas:   0% (0/64)\rResolving deltas:   1% (1/64)\rResolving deltas:   3% (2/64)\rResolving deltas:  10% (7/64)\rResolving deltas:  12% (8/64)\rResolving deltas:  14% (9/64)\rResolving deltas:  21% (14/64)\rResolving deltas:  26% (17/64)\rResolving deltas:  29% (19/64)\rResolving deltas:  31% (20/64)\rResolving deltas:  35% (23/64)\rResolving deltas:  37% (24/64)\rResolving deltas:  42% (27/64)\rResolving deltas:  43% (28/64)\rResolving deltas:  45% (29/64)\rResolving deltas:  50% (32/64)\rResolving deltas:  54% (35/64)\rResolving deltas:  60% (39/64)\rResolving deltas:  64% (41/64)\rResolving deltas:  67% (43/64)\rResolving deltas:  70% (45/64)\rResolving deltas:  93% (60/64)\rResolving deltas: 100% (64/64)\rResolving deltas: 100% (64/64), done.\n",
            "python3: can't open file '/content/stylegan2/download_weights.py': [Errno 2] No such file or directory\n"
          ]
        }
      ],
      "source": [
        "!rm -rf stylegan2\n",
        "\n",
        "!git clone https://github.com/NVlabs/stylegan2.git\n",
        "!python stylegan2/download_weights.py\n"
      ]
    },
    {
      "cell_type": "code",
      "source": [
        "np.random.seed(42)\n",
        "tf.random.set_seed(42)\n",
        "\n",
        "# Load your own image\n",
        "drive.mount('/content/drive', force_remount=True)\n",
        "image_folder = '/content/drive/MyDrive/B-Mode Ultrasound/'\n",
        "image_files = os.listdir(image_folder)\n",
        "\n",
        "for image_file in image_files:\n",
        "    # Construct the full path to the image\n",
        "    image_path = os.path.join(image_folder, image_file)\n",
        "\n",
        "    # Load the image\n",
        "    original_image = cv2.imread(image_path)\n",
        "\n",
        "    # Preprocess the image\n",
        "    preprocessed_image = cv2.cvtColor(original_image, cv2.COLOR_BGR2RGB)\n",
        "    preprocessed_image = cv2.resize(preprocessed_image, (512, 512))  # Resize to match StyleGAN2 input size\n",
        "    preprocessed_image = (preprocessed_image / 255.0) * 2 - 1  # Normalize pixel values to [-1, 1]\n",
        "\n",
        "\n",
        "    # Reshape the image for StyleGAN2 input\n",
        "    image_batch = np.expand_dims(preprocessed_image, axis=0)\n",
        "\n",
        "    # Load StyleGAN2 model\n",
        "    if 'sess' in globals(): sess.close()\n",
        "    sess = tf.compat.v1.InteractiveSession()\n",
        "    saver = tf.compat.v1.train.import_meta_graph('/content/drive/MyDrive/stylegan2/models/ffhq.pkl.meta')\n",
        "    saver.restore(sess, '/content/drive/MyDrive/stylegan2/models/ffhq.pkl')\n",
        "\n",
        "\n",
        "    # Access the generator's input and output tensors\n",
        "    graph = tf.compat.v1.get_default_graph()\n",
        "    latent_vector = graph.get_tensor_by_name('G_mapping_1/_Run/G_mapping/dlatents_out:0')\n",
        "    generated_image = graph.get_tensor_by_name('G_synthesis_1/_Run/concat/concat:0')\n",
        "\n",
        "    # Generate an image from the original image\n",
        "    image = sess.run(generated_image, feed_dict={latent_vector: image_batch})\n",
        "\n",
        "    # Rescale the pixel values from [-1, 1] to [0, 255]\n",
        "    image = ((image + 1) * 127.5).astype(np.uint8)\n",
        "\n",
        "    # Save the generated image\n",
        "    output_dir = 'path/to/output/directory'\n",
        "    os.makedirs(output_dir, exist_ok=True)\n",
        "    output_image_path = os.path.join(output_dir, 'generated_image.png')\n",
        "    cv2.imwrite(output_image_path, image[0])\n",
        "\n",
        "print('Image generation complete!')"
      ],
      "metadata": {
        "colab": {
          "base_uri": "https://localhost:8080/",
          "height": 398
        },
        "id": "dXOvcrX2p-MU",
        "outputId": "d11ff5e3-6dd6-41b6-c81e-6aec295fc7b5"
      },
      "execution_count": 18,
      "outputs": [
        {
          "output_type": "stream",
          "name": "stdout",
          "text": [
            "Mounted at /content/drive\n"
          ]
        },
        {
          "output_type": "error",
          "ename": "OSError",
          "evalue": "ignored",
          "traceback": [
            "\u001b[0;31m---------------------------------------------------------------------------\u001b[0m",
            "\u001b[0;31mOSError\u001b[0m                                   Traceback (most recent call last)",
            "\u001b[0;32m<ipython-input-18-01f15ea37893>\u001b[0m in \u001b[0;36m<cell line: 9>\u001b[0;34m()\u001b[0m\n\u001b[1;32m     26\u001b[0m     \u001b[0;32mif\u001b[0m \u001b[0;34m'sess'\u001b[0m \u001b[0;32min\u001b[0m \u001b[0mglobals\u001b[0m\u001b[0;34m(\u001b[0m\u001b[0;34m)\u001b[0m\u001b[0;34m:\u001b[0m \u001b[0msess\u001b[0m\u001b[0;34m.\u001b[0m\u001b[0mclose\u001b[0m\u001b[0;34m(\u001b[0m\u001b[0;34m)\u001b[0m\u001b[0;34m\u001b[0m\u001b[0;34m\u001b[0m\u001b[0m\n\u001b[1;32m     27\u001b[0m     \u001b[0msess\u001b[0m \u001b[0;34m=\u001b[0m \u001b[0mtf\u001b[0m\u001b[0;34m.\u001b[0m\u001b[0mcompat\u001b[0m\u001b[0;34m.\u001b[0m\u001b[0mv1\u001b[0m\u001b[0;34m.\u001b[0m\u001b[0mInteractiveSession\u001b[0m\u001b[0;34m(\u001b[0m\u001b[0;34m)\u001b[0m\u001b[0;34m\u001b[0m\u001b[0;34m\u001b[0m\u001b[0m\n\u001b[0;32m---> 28\u001b[0;31m     \u001b[0msaver\u001b[0m \u001b[0;34m=\u001b[0m \u001b[0mtf\u001b[0m\u001b[0;34m.\u001b[0m\u001b[0mcompat\u001b[0m\u001b[0;34m.\u001b[0m\u001b[0mv1\u001b[0m\u001b[0;34m.\u001b[0m\u001b[0mtrain\u001b[0m\u001b[0;34m.\u001b[0m\u001b[0mimport_meta_graph\u001b[0m\u001b[0;34m(\u001b[0m\u001b[0;34m'/content/drive/MyDrive/stylegan2/models/ffhq.pkl.meta'\u001b[0m\u001b[0;34m)\u001b[0m\u001b[0;34m\u001b[0m\u001b[0;34m\u001b[0m\u001b[0m\n\u001b[0m\u001b[1;32m     29\u001b[0m     \u001b[0msaver\u001b[0m\u001b[0;34m.\u001b[0m\u001b[0mrestore\u001b[0m\u001b[0;34m(\u001b[0m\u001b[0msess\u001b[0m\u001b[0;34m,\u001b[0m \u001b[0;34m'/content/drive/MyDrive/stylegan2/models/ffhq.pkl'\u001b[0m\u001b[0;34m)\u001b[0m\u001b[0;34m\u001b[0m\u001b[0;34m\u001b[0m\u001b[0m\n\u001b[1;32m     30\u001b[0m \u001b[0;34m\u001b[0m\u001b[0m\n",
            "\u001b[0;32m/usr/local/lib/python3.10/dist-packages/tensorflow/python/training/saver.py\u001b[0m in \u001b[0;36mimport_meta_graph\u001b[0;34m(meta_graph_or_file, clear_devices, import_scope, **kwargs)\u001b[0m\n\u001b[1;32m   1581\u001b[0m   \u001b[0;34m@\u001b[0m\u001b[0mend_compatibility\u001b[0m\u001b[0;34m\u001b[0m\u001b[0;34m\u001b[0m\u001b[0m\n\u001b[1;32m   1582\u001b[0m   \"\"\"  # pylint: disable=g-doc-exception\n\u001b[0;32m-> 1583\u001b[0;31m   return _import_meta_graph_with_return_elements(meta_graph_or_file,\n\u001b[0m\u001b[1;32m   1584\u001b[0m                                                  \u001b[0mclear_devices\u001b[0m\u001b[0;34m,\u001b[0m \u001b[0mimport_scope\u001b[0m\u001b[0;34m,\u001b[0m\u001b[0;34m\u001b[0m\u001b[0;34m\u001b[0m\u001b[0m\n\u001b[1;32m   1585\u001b[0m                                                  **kwargs)[0]\n",
            "\u001b[0;32m/usr/local/lib/python3.10/dist-packages/tensorflow/python/training/saver.py\u001b[0m in \u001b[0;36m_import_meta_graph_with_return_elements\u001b[0;34m(meta_graph_or_file, clear_devices, import_scope, return_elements, **kwargs)\u001b[0m\n\u001b[1;32m   1597\u001b[0m                        \"execution is enabled.\")\n\u001b[1;32m   1598\u001b[0m   \u001b[0;32mif\u001b[0m \u001b[0;32mnot\u001b[0m \u001b[0misinstance\u001b[0m\u001b[0;34m(\u001b[0m\u001b[0mmeta_graph_or_file\u001b[0m\u001b[0;34m,\u001b[0m \u001b[0mmeta_graph_pb2\u001b[0m\u001b[0;34m.\u001b[0m\u001b[0mMetaGraphDef\u001b[0m\u001b[0;34m)\u001b[0m\u001b[0;34m:\u001b[0m\u001b[0;34m\u001b[0m\u001b[0;34m\u001b[0m\u001b[0m\n\u001b[0;32m-> 1599\u001b[0;31m     \u001b[0mmeta_graph_def\u001b[0m \u001b[0;34m=\u001b[0m \u001b[0mmeta_graph\u001b[0m\u001b[0;34m.\u001b[0m\u001b[0mread_meta_graph_file\u001b[0m\u001b[0;34m(\u001b[0m\u001b[0mmeta_graph_or_file\u001b[0m\u001b[0;34m)\u001b[0m\u001b[0;34m\u001b[0m\u001b[0;34m\u001b[0m\u001b[0m\n\u001b[0m\u001b[1;32m   1600\u001b[0m   \u001b[0;32melse\u001b[0m\u001b[0;34m:\u001b[0m\u001b[0;34m\u001b[0m\u001b[0;34m\u001b[0m\u001b[0m\n\u001b[1;32m   1601\u001b[0m     \u001b[0mmeta_graph_def\u001b[0m \u001b[0;34m=\u001b[0m \u001b[0mmeta_graph_or_file\u001b[0m\u001b[0;34m\u001b[0m\u001b[0;34m\u001b[0m\u001b[0m\n",
            "\u001b[0;32m/usr/local/lib/python3.10/dist-packages/tensorflow/python/framework/meta_graph.py\u001b[0m in \u001b[0;36mread_meta_graph_file\u001b[0;34m(filename)\u001b[0m\n\u001b[1;32m    631\u001b[0m   \u001b[0mmeta_graph_def\u001b[0m \u001b[0;34m=\u001b[0m \u001b[0mmeta_graph_pb2\u001b[0m\u001b[0;34m.\u001b[0m\u001b[0mMetaGraphDef\u001b[0m\u001b[0;34m(\u001b[0m\u001b[0;34m)\u001b[0m\u001b[0;34m\u001b[0m\u001b[0;34m\u001b[0m\u001b[0m\n\u001b[1;32m    632\u001b[0m   \u001b[0;32mif\u001b[0m \u001b[0;32mnot\u001b[0m \u001b[0mfile_io\u001b[0m\u001b[0;34m.\u001b[0m\u001b[0mfile_exists\u001b[0m\u001b[0;34m(\u001b[0m\u001b[0mfilename\u001b[0m\u001b[0;34m)\u001b[0m\u001b[0;34m:\u001b[0m\u001b[0;34m\u001b[0m\u001b[0;34m\u001b[0m\u001b[0m\n\u001b[0;32m--> 633\u001b[0;31m     \u001b[0;32mraise\u001b[0m \u001b[0mIOError\u001b[0m\u001b[0;34m(\u001b[0m\u001b[0;34mf\"File does not exist. Received: {filename}.\"\u001b[0m\u001b[0;34m)\u001b[0m\u001b[0;34m\u001b[0m\u001b[0;34m\u001b[0m\u001b[0m\n\u001b[0m\u001b[1;32m    634\u001b[0m   \u001b[0;31m# First try to read it as a binary file.\u001b[0m\u001b[0;34m\u001b[0m\u001b[0;34m\u001b[0m\u001b[0m\n\u001b[1;32m    635\u001b[0m   \u001b[0;32mwith\u001b[0m \u001b[0mfile_io\u001b[0m\u001b[0;34m.\u001b[0m\u001b[0mFileIO\u001b[0m\u001b[0;34m(\u001b[0m\u001b[0mfilename\u001b[0m\u001b[0;34m,\u001b[0m \u001b[0;34m\"rb\"\u001b[0m\u001b[0;34m)\u001b[0m \u001b[0;32mas\u001b[0m \u001b[0mf\u001b[0m\u001b[0;34m:\u001b[0m\u001b[0;34m\u001b[0m\u001b[0;34m\u001b[0m\u001b[0m\n",
            "\u001b[0;31mOSError\u001b[0m: File does not exist. Received: /content/drive/MyDrive/stylegan2/models/ffhq.pkl.meta."
          ]
        }
      ]
    },
    {
      "cell_type": "code",
      "source": [],
      "metadata": {
        "id": "3wRW16WusE5T"
      },
      "execution_count": null,
      "outputs": []
    }
  ]
}